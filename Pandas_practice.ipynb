{
 "cells": [
  {
   "cell_type": "code",
   "execution_count": 5,
   "id": "27cb2f53",
   "metadata": {},
   "outputs": [],
   "source": [
    "import pandas as pd\n",
    "from pathlib import Path"
   ]
  },
  {
   "cell_type": "markdown",
   "id": "40109191",
   "metadata": {},
   "source": [
    "## 1. DATA LOADING AND PREPROCESSING"
   ]
  },
  {
   "cell_type": "code",
   "execution_count": 6,
   "id": "f677db23",
   "metadata": {},
   "outputs": [],
   "source": [
    "def load_data():\n",
    "    df = pd.read_csv(\"ML_Dataset.csv\", header=[0, 1])\n",
    "    \n",
    "    students = df.columns[3:].get_level_values(0).tolist()\n",
    "    test_codes = df.loc[1, students].values\n",
    "    \n",
    "    df.columns = ['Subject', 'Question', 'Topic'] + students\n",
    "    df = df.drop([0, 1]).reset_index(drop=True)\n",
    "    \n",
    "    return df, students, test_codes\n"
   ]
  },
  {
   "cell_type": "markdown",
   "id": "cb9218f4",
   "metadata": {},
   "source": [
    "# 2. STUDENT ANALYSIS FUNCTIONS"
   ]
  },
  {
   "cell_type": "code",
   "execution_count": 7,
   "id": "65070ffa",
   "metadata": {},
   "outputs": [],
   "source": [
    "def calculate_subject_scores(student_df, student):\n",
    "    subject_totals = student_df.groupby('Subject')[student].sum().reset_index()\n",
    "    subject_totals.columns = ['Subject', 'Marks']\n",
    "    \n",
    "    max_marks = student_df.groupby('Subject')[student].max()\n",
    "    \n",
    "    subject_totals['Percentage'] = (subject_totals['Marks'] / max_marks.loc[subject_totals['Subject']].values) * 100\n",
    "    subject_totals['Percentage'] = subject_totals['Percentage'].round(2)\n",
    "    \n",
    "    return subject_totals, max_marks\n",
    "\n",
    "def determine_qualification(subject_totals, total_percentage):\n",
    "    return (total_percentage > 60) and all(subject_totals['Percentage'] > 60)"
   ]
  },
  {
   "cell_type": "markdown",
   "id": "1a4fdaae",
   "metadata": {},
   "source": [
    "# 3. REPORT GENERATION FUNCTIONS"
   ]
  },
  {
   "cell_type": "code",
   "execution_count": 9,
   "id": "b34fc598",
   "metadata": {},
   "outputs": [],
   "source": [
    "def generate_student_html(student_data):\n",
    "\n",
    "    html = f\"\"\"\n",
    "    <html>\n",
    "    <head>\n",
    "        <style>\n",
    "            body {{ font-family: Arial, sans-serif; margin: 20px; }}\n",
    "            h1 {{ color: #2c3e50; }}\n",
    "            h2 {{ color: #3498db; margin-top: 30px; }}\n",
    "            table {{ border-collapse: collapse; width: 100%; margin-bottom: 20px; }}\n",
    "            th, td {{ border: 1px solid #ddd; padding: 8px; text-align: left; }}\n",
    "            th {{ background-color: #f2f2f2; }}\n",
    "            .selected {{ color: green; font-weight: bold; }}\n",
    "            .rejected {{ color: red; font-weight: bold; }}\n",
    "        </style>\n",
    "    </head>\n",
    "    <body>\n",
    "        <h1>Student Report: {student_data['student']}</h1>\n",
    "        <p>Test Code: {student_data['test_code']}</p>\n",
    "        \n",
    "        <h2>Total Marks</h2>\n",
    "        {student_data['subject_totals'].to_html(index=False)}\n",
    "        <p>Total Marks: {student_data['total_marks']} ({student_data['total_percentage']}%)</p>\n",
    "        <p>Status: <span class=\"{'selected' if student_data['qualified'] else 'rejected'}\">\n",
    "            {'SELECTED' if student_data['qualified'] else 'REJECTED'}\n",
    "        </span></p>\n",
    "        \n",
    "        <h2>Topics Answered Correctly</h2>\n",
    "        {student_data['correct_topics'].to_html(index=False)}\n",
    "        \n",
    "        <h2>Topics Answered Incorrectly</h2>\n",
    "        {student_data['incorrect_topics'].to_html(index=False)}\n",
    "    </body>\n",
    "    </html>\n",
    "    \"\"\"\n",
    "    return html\n",
    "\n",
    "def generate_summary_html(all_student_data):\n",
    "\n",
    "    summary_data = []\n",
    "    for data in all_student_data:\n",
    "        summary_data.append({\n",
    "            'Student': data['student'],\n",
    "            'Test Code': data['test_code'],\n",
    "            'Total Marks': data['total_marks'],\n",
    "            'Percentage': data['total_percentage'],\n",
    "            'Status': 'SELECTED' if data['qualified'] else 'REJECTED'\n",
    "        })\n",
    "    \n",
    "    summary_df = pd.DataFrame(summary_data)\n",
    "    \n",
    "    html = f\"\"\"\n",
    "    <html>\n",
    "    <head>\n",
    "        <style>\n",
    "            body {{ font-family: Arial, sans-serif; margin: 20px; }}\n",
    "            h1 {{ color: #2c3e50; text-align: center; }}\n",
    "            table {{ border-collapse: collapse; width: 80%; margin: 20px auto; }}\n",
    "            th, td {{ border: 1px solid #ddd; padding: 8px; text-align: left; }}\n",
    "            th {{ background-color: #f2f2f2; }}\n",
    "            .selected {{ color: green; }}\n",
    "            .rejected {{ color: red; }}\n",
    "        </style>\n",
    "    </head>\n",
    "    <body>\n",
    "        <h1>Machine Learning Course - Qualification Summary</h1>\n",
    "        {summary_df.to_html(index=False, classes='summary-table', \n",
    "                          formatters={'Status': lambda x: f'<span class={\"selected\" if x == \"SELECTED\" else \"rejected\"}>{x}</span>'},\n",
    "                          escape=False)}\n",
    "    </body>\n",
    "    </html>\n",
    "    \"\"\"\n",
    "    return html"
   ]
  },
  {
   "cell_type": "markdown",
   "id": "6ce34dd2",
   "metadata": {},
   "source": [
    "# 4. MAIN EXECUTION FLOW"
   ]
  },
  {
   "cell_type": "code",
   "execution_count": 10,
   "id": "4cb6af88",
   "metadata": {},
   "outputs": [
    {
     "name": "stdout",
     "output_type": "stream",
     "text": [
      "Processing ST1...\n",
      "Processing ST2...\n",
      "Processing ST3...\n",
      "Processing ST4...\n",
      "Processing ST5...\n",
      "Processing ST6...\n",
      "Processing ST7...\n",
      "Processing ST8...\n",
      "\n",
      "Successfully generated:\n",
      "- Individual reports for 8 students\n",
      "- Summary report (result.html)\n"
     ]
    }
   ],
   "source": [
    "def main():\n",
    "    output_dir = Path(\"student_reports\")\n",
    "    output_dir.mkdir(exist_ok=True)\n",
    "    \n",
    "    df, students, test_codes = load_data()\n",
    "    all_student_data = []\n",
    "    \n",
    "    for student, test_code in zip(students, test_codes):\n",
    "        print(f\"Processing {student}...\")\n",
    "        \n",
    "        student_df = df[['Subject', 'Question', 'Topic', student]].copy()\n",
    "        student_df = student_df[student_df[student] != '-'].copy()\n",
    "        student_df[student] = student_df[student].astype(float)\n",
    "        \n",
    "        subject_totals, max_marks = calculate_subject_scores(student_df, student)\n",
    "        total_marks = subject_totals['Marks'].sum()\n",
    "        total_percentage = (total_marks / max_marks.sum()) * 100\n",
    "        \n",
    "        student_data = {\n",
    "            'student': student,\n",
    "            'test_code': test_code,\n",
    "            'subject_totals': subject_totals,\n",
    "            'total_marks': total_marks,\n",
    "            'total_percentage': round(total_percentage, 2),\n",
    "            'qualified': determine_qualification(subject_totals, total_percentage),\n",
    "            'correct_topics': student_df[student_df[student] > 0][['Subject', 'Topic', student]],\n",
    "            'incorrect_topics': student_df[student_df[student] == 0][['Subject', 'Topic', student]]\n",
    "        }\n",
    "        all_student_data.append(student_data)\n",
    "        \n",
    "        html_content = generate_student_html(student_data)\n",
    "        with open(output_dir / f\"{student}.html\", \"w\") as f:\n",
    "            f.write(html_content)\n",
    "    \n",
    "    summary_html = generate_summary_html(all_student_data)\n",
    "    with open(output_dir / \"result.html\", \"w\") as f:\n",
    "        f.write(summary_html)\n",
    "    \n",
    "    print(f\"\\nSuccessfully generated:\")\n",
    "    print(f\"- Individual reports for {len(students)} students\")\n",
    "    print(f\"- Summary report (result.html)\")\n",
    "\n",
    "if __name__ == \"__main__\":\n",
    "    main()"
   ]
  },
  {
   "cell_type": "code",
   "execution_count": null,
   "id": "951c2643",
   "metadata": {},
   "outputs": [],
   "source": []
  }
 ],
 "metadata": {
  "kernelspec": {
   "display_name": "Python 3",
   "language": "python",
   "name": "python3"
  },
  "language_info": {
   "codemirror_mode": {
    "name": "ipython",
    "version": 3
   },
   "file_extension": ".py",
   "mimetype": "text/x-python",
   "name": "python",
   "nbconvert_exporter": "python",
   "pygments_lexer": "ipython3",
   "version": "3.10.11"
  }
 },
 "nbformat": 4,
 "nbformat_minor": 5
}
